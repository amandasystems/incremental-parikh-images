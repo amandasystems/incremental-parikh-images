{
 "cells": [
  {
   "cell_type": "markdown",
   "id": "00c565e0-5c16-477b-b082-9248fc370606",
   "metadata": {
    "tags": []
   },
   "source": [
    "## Overhead\n",
    "In order to know how fair our comparison is, we run all solvers repeatedly on the same, trivial instance."
   ]
  },
  {
   "cell_type": "code",
   "execution_count": 4,
   "id": "848db19d-4363-4317-a4fd-5ab892f6edf1",
   "metadata": {},
   "outputs": [
    {
     "name": "stdout",
     "output_type": "stream",
     "text": [
      "counter int R1;\n",
      "synchronised {\n",
      "  automaton value_0 {\n",
      "    init s0;\n",
      "    s0 -> s1 [32, 32] { R1 += 1 };\n",
      "    accepting s1;\n",
      "  };\n",
      "};\n"
     ]
    }
   ],
   "source": [
    "!cat trivial.par"
   ]
  },
  {
   "cell_type": "code",
   "execution_count": 153,
   "id": "56da7d1c-8077-4c1d-90b1-4304ba973087",
   "metadata": {},
   "outputs": [],
   "source": [
    "%%sh\n",
    "INVOCATIONS=$(perl -E 'say \"trivial.par \" x 30')\n",
    "\n",
    "for backend in lazy nuxmv baseline;\n",
    "do\n",
    "  ~/catra/bin/catra solve-satisfy --backend ${backend} $INVOCATIONS > trivial-${backend}.log\n",
    "done"
   ]
  },
  {
   "cell_type": "code",
   "execution_count": 154,
   "id": "d41ed83b-dd04-4e67-abdf-c6c59d285764",
   "metadata": {},
   "outputs": [
    {
     "ename": "NameError",
     "evalue": "name 'backends' is not defined",
     "output_type": "error",
     "traceback": [
      "\u001b[0;31m---------------------------------------------------------------------------\u001b[0m",
      "\u001b[0;31mNameError\u001b[0m                                 Traceback (most recent call last)",
      "Cell \u001b[0;32mIn[154], line 3\u001b[0m\n\u001b[1;32m      1\u001b[0m df \u001b[38;5;241m=\u001b[39m pd\u001b[38;5;241m.\u001b[39mconcat(pd\u001b[38;5;241m.\u001b[39mDataFrame(\n\u001b[1;32m      2\u001b[0m     parse_log(\u001b[38;5;124mf\u001b[39m\u001b[38;5;124m\"\u001b[39m\u001b[38;5;124mtrivial-\u001b[39m\u001b[38;5;132;01m{\u001b[39;00mbackend\u001b[38;5;132;01m}\u001b[39;00m\u001b[38;5;124m.log\u001b[39m\u001b[38;5;124m\"\u001b[39m))\n\u001b[0;32m----> 3\u001b[0m           \u001b[38;5;241m.\u001b[39massign(backend \u001b[38;5;241m=\u001b[39m backend) \u001b[38;5;28;01mfor\u001b[39;00m backend \u001b[38;5;129;01min\u001b[39;00m \u001b[43mbackends\u001b[49m)\n",
      "\u001b[0;31mNameError\u001b[0m: name 'backends' is not defined"
     ]
    }
   ],
   "source": [
    "df = pd.concat(pd.DataFrame(\n",
    "    parse_log(f\"trivial-{backend}.log\"))\n",
    "          .assign(backend = backend) for backend in backends)"
   ]
  },
  {
   "cell_type": "markdown",
   "id": "8815c68b-3ad8-46e1-a95b-2e7bfac2a99c",
   "metadata": {},
   "source": [
    "Now we can plot the values to see how they look over time. A clear result is that the first run is much slower for all backends, but less so for nuxmv. This is unsurprising, given that the other backends are running on a cold JVM, while nuxmv does most of the work in a compiled binary. We also see here that once the JVM is warm, the overhead for all back-ends normalise to something very similar, with a small, sub .1-second overhead for cold-starting nuxmv for each instance."
   ]
  },
  {
   "cell_type": "code",
   "execution_count": null,
   "id": "d11121e3-d750-4e1e-9840-4c9e43ea9d52",
   "metadata": {},
   "outputs": [],
   "source": [
    "_ = df.groupby(\"backend\")[\"runtime\"].plot(legend=True, \n",
    "                                      figsize=(10,6),\n",
    "                                      xlabel=\"# iterations\", \n",
    "                                      ylabel=\"Runtime (s) logscale\",\n",
    "                                      logy=True,\n",
    "                                      title=\"Time spent solving the same trivial instance repeatedly\",\n",
    "                                      style='.')"
   ]
  },
  {
   "cell_type": "markdown",
   "id": "1b5fc83c-8996-4575-a6b1-343c9b2fc73c",
   "metadata": {},
   "source": [
    "Filtering out the outliers from the cold runs, we get the following:"
   ]
  },
  {
   "cell_type": "code",
   "execution_count": null,
   "id": "fbaf0fc1-2e64-4cac-9bd9-167c7863fde4",
   "metadata": {},
   "outputs": [],
   "source": [
    "_ = df[df['runtime'] <= 0.1 ].groupby('backend')['runtime'].plot(figsize=(10, 6),\n",
    "                                      legend=True, \n",
    "                                      xlabel=\"# iterations\", \n",
    "                                      ylabel=\"Runtime (s) lin-scale\",\n",
    "                                      style='.',\n",
    "                                      title=\"Time spent solving the same trivial instance repeatedly\",\n",
    "                                      logy=False)\n",
    "plt.tight_layout()"
   ]
  }
 ],
 "metadata": {
  "kernelspec": {
   "display_name": "Python 3 (ipykernel)",
   "language": "python",
   "name": "python3"
  },
  "language_info": {
   "codemirror_mode": {
    "name": "ipython",
    "version": 3
   },
   "file_extension": ".py",
   "mimetype": "text/x-python",
   "name": "python",
   "nbconvert_exporter": "python",
   "pygments_lexer": "ipython3",
   "version": "3.10.11"
  }
 },
 "nbformat": 4,
 "nbformat_minor": 5
}
